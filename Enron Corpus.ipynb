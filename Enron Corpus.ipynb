{
 "cells": [
  {
   "cell_type": "code",
   "execution_count": 1,
   "metadata": {},
   "outputs": [
    {
     "name": "stderr",
     "output_type": "stream",
     "text": [
      "C:\\Users\\KetanPandey\\Anaconda2\\lib\\site-packages\\sklearn\\cross_validation.py:41: DeprecationWarning: This module was deprecated in version 0.18 in favor of the model_selection module into which all the refactored classes and functions are moved. Also note that the interface of the new CV iterators are different from that of this module. This module will be removed in 0.20.\n",
      "  \"This module will be removed in 0.20.\", DeprecationWarning)\n"
     ]
    }
   ],
   "source": [
    "import sys\n",
    "import pickle\n",
    "import matplotlib.pyplot as plt\n",
    "import numpy as np\n",
    "from sklearn.cross_validation import train_test_split\n",
    "from sklearn.naive_bayes import GaussianNB\n",
    "from sklearn.metrics import accuracy_score\n",
    "from time import time\n",
    "sys.path.append(\"../tools/\")"
   ]
  },
  {
   "cell_type": "code",
   "execution_count": 2,
   "metadata": {},
   "outputs": [],
   "source": [
    "from feature_format import featureFormat, targetFeatureSplit\n",
    "#from tester import dump_classifier_and_data"
   ]
  },
  {
   "cell_type": "code",
   "execution_count": 3,
   "metadata": {},
   "outputs": [],
   "source": [
    "# Task 1: Select what features you'll use.\n",
    "# features_list is a list of strings, each of which is a feature name.\n",
    "# The first feature must be \"poi\".\n",
    "features_list = ['salary','bonus'] # You will need to use more features"
   ]
  },
  {
   "cell_type": "code",
   "execution_count": 4,
   "metadata": {},
   "outputs": [],
   "source": [
    "# Load the dictionary containing the dataset\n",
    "with open(\"final_project_dataset.pkl\", \"r\") as data_file:\n",
    "    data_dict = pickle.load(data_file)"
   ]
  },
  {
   "cell_type": "code",
   "execution_count": 5,
   "metadata": {},
   "outputs": [
    {
     "name": "stdout",
     "output_type": "stream",
     "text": [
      "146\n"
     ]
    }
   ],
   "source": [
    "print(len(data_dict))"
   ]
  },
  {
   "cell_type": "markdown",
   "metadata": {},
   "source": [
    "## Visualize the data"
   ]
  },
  {
   "cell_type": "code",
   "execution_count": 6,
   "metadata": {},
   "outputs": [
    {
     "data": {
      "image/png": "[encoded data removed]",
      "text/plain": [
       "<Figure size 432x288 with 1 Axes>"
      ]
     },
     "metadata": {},
     "output_type": "display_data"
    }
   ],
   "source": [
    "def visualize():\n",
    "    data = featureFormat(data_dict,features_list)\n",
    "    for point in data:\n",
    "        salary = point[0]\n",
    "        bonus = point[1]\n",
    "        plt.scatter( salary, bonus )\n",
    "    plt.xlabel(\"salary\")\n",
    "    plt.ylabel(\"bonus\")\n",
    "    plt.show()\n",
    "\n",
    "    # labels,features = targetFeatureSplit(data)\n",
    "    # plt.scatter(labels,features)\n",
    "    # plt.xlabel(\"POI\")\n",
    "    # plt.ylabel(\"Salary\")\n",
    "    # plt.show()\n",
    "visualize()"
   ]
  },
  {
   "cell_type": "markdown",
   "metadata": {},
   "source": [
    "After Visualizing the data, it is clear that there is a outlier which needs to be removed."
   ]
  },
  {
   "cell_type": "markdown",
   "metadata": {},
   "source": [
    "## Outlier Removal"
   ]
  },
  {
   "cell_type": "code",
   "execution_count": 8,
   "metadata": {},
   "outputs": [
    {
     "name": "stdout",
     "output_type": "stream",
     "text": [
      "(1111258, 'SKILLING JEFFREY K')\n"
     ]
    },
    {
     "ename": "KeyError",
     "evalue": "'TOTAL'",
     "output_type": "error",
     "traceback": [
      "\u001b[1;31m---------------------------------------------------------------------------\u001b[0m",
      "\u001b[1;31mKeyError\u001b[0m                                  Traceback (most recent call last)",
      "\u001b[1;32m<ipython-input-8-55f7214b9d33>\u001b[0m in \u001b[0;36m<module>\u001b[1;34m()\u001b[0m\n\u001b[0;32m      8\u001b[0m \u001b[1;33m\u001b[0m\u001b[0m\n\u001b[0;32m      9\u001b[0m \u001b[1;31m#Removing the outlier\u001b[0m\u001b[1;33m\u001b[0m\u001b[1;33m\u001b[0m\u001b[0m\n\u001b[1;32m---> 10\u001b[1;33m \u001b[0mdata_dict\u001b[0m\u001b[1;33m.\u001b[0m\u001b[0mpop\u001b[0m\u001b[1;33m(\u001b[0m\u001b[1;34m'TOTAL'\u001b[0m\u001b[1;33m)\u001b[0m\u001b[1;33m\u001b[0m\u001b[0m\n\u001b[0m\u001b[0;32m     11\u001b[0m \u001b[1;33m\u001b[0m\u001b[0m\n\u001b[0;32m     12\u001b[0m \u001b[1;31m#Visualize after removing the outlier\u001b[0m\u001b[1;33m\u001b[0m\u001b[1;33m\u001b[0m\u001b[0m\n",
      "\u001b[1;31mKeyError\u001b[0m: 'TOTAL'"
     ]
    }
   ],
   "source": [
    "#Finding the outlier\n",
    "max_salary,max_key = 0,''\n",
    "for key,value in data_dict.items():\n",
    "    if value['salary'] > max_salary and value['salary']<>'NaN':\n",
    "        max_salary, max_key = value['salary'],key\n",
    "        \n",
    "print(max_salary,max_key)\n",
    "\n",
    "#Removing the outlier\n",
    "data_dict.pop('TOTAL')\n",
    "\n",
    "#Visualize after removing the outlier\n",
    "visualize()"
   ]
  },
  {
   "cell_type": "markdown",
   "metadata": {},
   "source": [
    "After removing the oulier, the data is now quite easy to visualize.\n",
    "There are few outliers still there. But we cannot remove them, they might be the actual people involved in the fraud.\n",
    "We'll see who these people are."
   ]
  },
  {
   "cell_type": "code",
   "execution_count": 9,
   "metadata": {},
   "outputs": [
    {
     "name": "stdout",
     "output_type": "stream",
     "text": [
      "[('SKILLING JEFFREY K', 1111258), ('LAY KENNETH L', 1072321), ('FREVERT MARK A', 1060932), ('PICKERING MARK R', 655037)]\n"
     ]
    }
   ],
   "source": [
    "outliers = []\n",
    "for key in data_dict:\n",
    "    sal = data_dict[key]['salary']\n",
    "    if sal<>'NaN':\n",
    "        outliers.append((key,int(sal)))\n",
    "\n",
    "outliers_final = (sorted(outliers,key=lambda x:x[1],reverse=True)[:4])\n",
    "print(outliers_final)\n",
    "        "
   ]
  },
  {
   "cell_type": "code",
   "execution_count": null,
   "metadata": {},
   "outputs": [],
   "source": [
    "# sys.path.append(\"../Enron_Corpus/Outlier\")\n",
    "# from outlier_removal_regression import outlierRemovalRegression\n",
    "# labels,features = targetFeatureSplit(data)\n",
    "# outlierRemovalRegression(features,labels)"
   ]
  },
  {
   "cell_type": "markdown",
   "metadata": {},
   "source": [
    "# Feature Processing"
   ]
  },
  {
   "cell_type": "markdown",
   "metadata": {},
   "source": [
    "Using my intuition, I am using two features('from_poi_to_this_person' and 'from_this_person_to_poi') that are already present in the data."
   ]
  },
  {
   "cell_type": "code",
   "execution_count": 11,
   "metadata": {},
   "outputs": [
    {
     "data": {
      "image/png": "[encoded data removed]",
      "text/plain": [
       "<Figure size 432x288 with 1 Axes>"
      ]
     },
     "metadata": {},
     "output_type": "display_data"
    }
   ],
   "source": [
    "#Selecting two features from the existing data.\n",
    "features_list = ['poi','from_poi_to_this_person','from_this_person_to_poi']\n",
    "data = featureFormat(data_dict,features_list)\n",
    "\n",
    "for point in data:\n",
    "    from_poi = point[1]\n",
    "    to_poi = point[2]\n",
    "    if point[0]==1:\n",
    "        plt.scatter(from_poi,to_poi,c=\"r\")\n",
    "    else:\n",
    "        plt.scatter(from_poi,to_poi, c='b')\n",
    "\n",
    "plt.xlabel(\"No.of emails from POI to this person\")\n",
    "plt.ylabel(\"NO.of emails from this person to POI\")\n",
    "plt.show()"
   ]
  },
  {
   "cell_type": "markdown",
   "metadata": {},
   "source": [
    "There is no strong pattern visualized here that differentiate POI from non-POI.\n",
    "So, I modified these two features to use fraction of them."
   ]
  },
  {
   "cell_type": "code",
   "execution_count": 12,
   "metadata": {},
   "outputs": [
    {
     "data": {
      "image/png": "[encoded data removed]",
      "text/plain": [
       "<Figure size 432x288 with 1 Axes>"
      ]
     },
     "metadata": {},
     "output_type": "display_data"
    }
   ],
   "source": [
    "def fraction_feature(new_feature,key,norm):\n",
    "    \n",
    "    for emp in data_dict.keys():\n",
    "        \n",
    "        if data_dict[emp][key]<>'NaN' and data_dict[emp][norm]<>'NaN':\n",
    "            div = float(data_dict[emp][key])/data_dict[emp][norm]\n",
    "            data_dict[emp][new_feature] = round(div,3)\n",
    "        else:\n",
    "            data_dict[emp][new_feature] = 0.0\n",
    "\n",
    "fraction_feature(\"fraction_from_poi_email\",\"from_poi_to_this_person\",\"to_messages\")\n",
    "fraction_feature(\"fraction_to_poi_email\",\"from_this_person_to_poi\",\"from_messages\")\n",
    "\n",
    "#new features\n",
    "features_list = ['poi',\"fraction_from_poi_email\",\"fraction_to_poi_email\"]\n",
    "data = featureFormat(data_dict,features_list)\n",
    "\n",
    "for point in data:\n",
    "    from_poi = point[1]\n",
    "    to_poi = point[2]\n",
    "    if point[0]==1:\n",
    "        plt.scatter(from_poi,to_poi,c=\"r\")\n",
    "    else:\n",
    "        plt.scatter(from_poi,to_poi, c='b')\n",
    "\n",
    "plt.xlabel(\"fraction of emails this person gets from poi\")\n",
    "plt.ylabel(\"fraction of emails this person sends to poi\")\n",
    "plt.show()"
   ]
  },
  {
   "cell_type": "markdown",
   "metadata": {},
   "source": [
    "These two new features are very well discriminating POIs from non-POIs, so now lets try use them for classification task."
   ]
  },
  {
   "cell_type": "markdown",
   "metadata": {},
   "source": [
    "# Algorithm Selection and Tuning"
   ]
  },
  {
   "cell_type": "markdown",
   "metadata": {},
   "source": [
    "##### I used naive bayes algorithm here and the accuracy is 67%."
   ]
  },
  {
   "cell_type": "code",
   "execution_count": 140,
   "metadata": {
    "scrolled": true
   },
   "outputs": [
    {
     "name": "stdout",
     "output_type": "stream",
     "text": [
      "Accuracy 0.67\n",
      "NB algo. time 0.0 sec\n"
     ]
    }
   ],
   "source": [
    "features_list = ['poi',\"fraction_from_poi_email\",\"fraction_to_poi_email\",\"shared_receipt_with_poi\"]\n",
    "data = featureFormat(data_dict,features_list)\n",
    "labels,features=targetFeatureSplit(data)\n",
    "features_train, features_test, labels_train, labels_test = train_test_split(features, labels, test_size=0.1,\n",
    "                                                                             random_state=42)\n",
    "t1 = time()\n",
    "clf = GaussianNB()\n",
    "clf = clf.fit(features_train, labels_train)\n",
    "pred = clf.predict(features_test)\n",
    "accuracy = accuracy_score(pred,labels_test)\n",
    "print 'Accuracy',round(accuracy,2)\n",
    "print \"NB algo. time\",round(time()-t1, 3),'sec'"
   ]
  },
  {
   "cell_type": "raw",
   "metadata": {},
   "source": []
  },
  {
   "cell_type": "code",
   "execution_count": 166,
   "metadata": {},
   "outputs": [
    {
     "name": "stdout",
     "output_type": "stream",
     "text": [
      "Accuracy 0.78\n",
      "DecisionTree Clf algo. time 0.004 sec\n"
     ]
    }
   ],
   "source": [
    "from sklearn.tree import DecisionTreeClassifier\n",
    "t1 = time()\n",
    "clf = DecisionTreeClassifier()\n",
    "clf = clf.fit(features_train,labels_train)\n",
    "pred = clf.predict(features_test)\n",
    "accuracy = accuracy_score(pred,labels_test)\n",
    "print 'Accuracy',round(accuracy,2)\n",
    "print \"DecisionTree Clf algo. time\",round(time()-t1, 3),'sec'"
   ]
  },
  {
   "cell_type": "markdown",
   "metadata": {},
   "source": [
    "# Analysis Validation and Performance"
   ]
  },
  {
   "cell_type": "code",
   "execution_count": 136,
   "metadata": {},
   "outputs": [
    {
     "name": "stdout",
     "output_type": "stream",
     "text": [
      "KFold(n_splits=3, random_state=None, shuffle=False)\n"
     ]
    }
   ],
   "source": [
    "from sklearn.model_selection import KFold\n",
    "kf = KFold(n_splits=3)\n",
    "print(kf)\n",
    "count=0\n",
    "for trainIndex, testIndex in kf.split(labels):\n",
    "    features_train = [features[index] for index in trainIndex]\n",
    "    features_test =  [features[index] for index in testIndex]\n",
    "    labels_train =   [labels[index] for index in trainIndex]\n",
    "    labels_test =    [labels[index] for index in testIndex]\n",
    "\n"
   ]
  },
  {
   "cell_type": "code",
   "execution_count": 138,
   "metadata": {},
   "outputs": [
    {
     "name": "stdout",
     "output_type": "stream",
     "text": [
      "Accuracy 0.93\n",
      "DecisionTree Clf algo. time 0.004 sec\n"
     ]
    }
   ],
   "source": [
    "clf = DecisionTreeClassifier(min_samples_split=6)\n",
    "clf = clf.fit(features_train,labels_train)\n",
    "pred = clf.predict(features_test)\n",
    "accuracy = accuracy_score(labels_test,pred)\n",
    "t1 = time()\n",
    "print 'Accuracy',round(accuracy,2)\n",
    "print \"DecisionTree Clf algo. time\",round(time()-t1, 3),'sec'"
   ]
  },
  {
   "cell_type": "code",
   "execution_count": 139,
   "metadata": {},
   "outputs": [
    {
     "name": "stdout",
     "output_type": "stream",
     "text": [
      "('Precision: ', 0.6666666666666666)\n",
      "('Recall: ', 0.6666666666666666)\n"
     ]
    }
   ],
   "source": [
    "from sklearn.metrics import precision_score,recall_score\n",
    "print(\"Precision: \",precision_score(labels_test,pred))\n",
    "print(\"Recall: \",recall_score(labels_test,pred))"
   ]
  }
 ],
 "metadata": {
  "kernelspec": {
   "display_name": "Python 2",
   "language": "python",
   "name": "python2"
  },
  "language_info": {
   "codemirror_mode": {
    "name": "ipython",
    "version": 2
   },
   "file_extension": ".py",
   "mimetype": "text/x-python",
   "name": "python",
   "nbconvert_exporter": "python",
   "pygments_lexer": "ipython2",
   "version": "2.7.15"
  }
 },
 "nbformat": 4,
 "nbformat_minor": 2
}
